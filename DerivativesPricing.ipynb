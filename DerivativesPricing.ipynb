{
 "cells": [
  {
   "cell_type": "markdown",
   "metadata": {},
   "source": [
    "<center> <h1>\n",
    "Pricing of financial derivatives using Monte Carlo simulations [with python]\n",
    " </h1></center>"
   ]
  },
  {
   "cell_type": "markdown",
   "metadata": {},
   "source": [
    "<center> <h2>Gilles HACHEME </h2></center>"
   ]
  },
  {
   "cell_type": "markdown",
   "metadata": {},
   "source": [
    "Goal:\n",
    "\n",
    "- Studying the speed of convergence of the Monte Carlo (MC) estimation of a call option\n",
    "price in the Black Scholes (BS) framework, and study the convergence of the MC estimator of the BS price.\n",
    "\n",
    "- Estimating the sensitivities of the price to an increase of $\\sigma$ (vega) or the interest rate $r$ (rho) ? Comparing to the BS closed formulas.\n",
    "\n",
    "- Computing by finite difference, using MC, the sensitivity to a move of the underlying (well known as the Delta...); and studying the convergence speed of the Delta (number of simulations becoming bigger and bigger). \n",
    "\n",
    "- Explaining how MC estimations behave when we get closer to the maturity.\n",
    "\n",
    "Parameters: $S_0 = 100$, $r = 2\\%$, $ \\sigma= 30\\%$, $K = 100$."
   ]
  },
  {
   "cell_type": "markdown",
   "metadata": {},
   "source": [
    "#### A - Study of the speed of convergence of the Monte Carlo estimation of a call option price in the Black Scholes framework."
   ]
  },
  {
   "cell_type": "code",
   "execution_count": 1,
   "metadata": {
    "collapsed": true
   },
   "outputs": [],
   "source": [
    "import numpy as np\n",
    "import matplotlib.pyplot as plt\n",
    "from scipy.stats import norm"
   ]
  },
  {
   "cell_type": "markdown",
   "metadata": {},
   "source": [
    "Let's consider : \n",
    "- Initial stock index level $S_0 = 100$\n",
    "- Strike price of the European call option $K = 100$\n",
    "- Time-to-maturity $T = 1$ year\n",
    "- Constant, riskless short rate $r = 2$%\n",
    "- Constant volatility $\\sigma = 30$%"
   ]
  },
  {
   "cell_type": "markdown",
   "metadata": {},
   "source": [
    "Monte Carlo estimation of a call option price in the Black Scholes framework : "
   ]
  },
  {
   "cell_type": "markdown",
   "metadata": {},
   "source": [
    "$ C_0 \\simeq \\exp^{-rT} \\frac{1}{N} \\sum h_T (S_T (i)) $"
   ]
  },
  {
   "cell_type": "markdown",
   "metadata": {},
   "source": [
    "with $S_t = S_{t-\\Delta t} exp[ (r-\\frac{1}{2}\\sigma ^2) \\Delta t + \\sigma  z_t \\sqrt{\\Delta t} ] $"
   ]
  },
  {
   "cell_type": "markdown",
   "metadata": {},
   "source": [
    "The estimation using a random seed of 10000:"
   ]
  },
  {
   "cell_type": "code",
   "execution_count": 2,
   "metadata": {
    "collapsed": true
   },
   "outputs": [],
   "source": [
    "#fixing a random state for the pseudo random-numbers\n",
    "np.random.seed(10000)\n",
    "\n",
    "# fonction for computing the Monte Carlo estimation \n",
    "# for a giving sample size\n",
    "\n",
    "\n",
    "\n",
    "\n",
    "def mont(N, S0 = 100, K = 100, T = 1, r = 0.02, sigma = 0.3):\n",
    "\n",
    "    M = 100\n",
    "    dt = T / M\n",
    "    \n",
    "\n",
    "    # Simulating N paths with M time steps\n",
    "    S = np.zeros((M + 1, N))\n",
    "    S[0] = S0\n",
    "    for t in range(1, M + 1):\n",
    "        z = np.random.standard_normal(N) \n",
    "        S[t] = S[t - 1] * np.exp((r - 0.5 * sigma ** 2) * dt\n",
    "        + sigma * np.sqrt(dt) * z)\n",
    "\n",
    "\n",
    "    # Computing the Monte Carlo estimator\n",
    "    C0 = np.exp(-r * T) * np.sum(np.maximum(S[-1] - K, 0)) / N\n",
    "    return C0"
   ]
  },
  {
   "cell_type": "code",
   "execution_count": 3,
   "metadata": {},
   "outputs": [
    {
     "data": {
      "image/png": "[encoded data removed]",
      "text/plain": [
       "<matplotlib.figure.Figure at 0x23c8c693160>"
      ]
     },
     "metadata": {},
     "output_type": "display_data"
    }
   ],
   "source": [
    "# Computing the Monte Carlo estimator for different \n",
    "#levels of sample size\n",
    "N = [int(size) for size in np.linspace(start=50, stop=5000, num = 500)]\n",
    "C = list(map(lambda size: mont(size), N))\n",
    "mean_C = [np.mean(C)]*len(C)\n",
    "plt.plot(N, C)\n",
    "plt.plot(N, mean_C, \"r\")\n",
    "plt.text(5020, 12.7, \"{}\".format(round(np.mean(C),2)))\n",
    "plt.title(\"Monte Carlo estimation for the price of a call option\")\n",
    "plt.xlabel(\"N\")\n",
    "plt.ylabel(\"Call option price\")\n",
    "plt.show()               "
   ]
  },
  {
   "cell_type": "markdown",
   "metadata": {},
   "source": [
    "We can easily notice that the convergence to the mean value (12.82) seems to be reached approximatively by N = 4000 obseravtions as the deviation from the mean becomes very small.  "
   ]
  },
  {
   "cell_type": "markdown",
   "metadata": {},
   "source": [
    "#### B - Estimation of the sensitivities of the price to an increase of $\\sigma$ (vega) or the interest rate r (rho), from MC experiments"
   ]
  },
  {
   "cell_type": "markdown",
   "metadata": {},
   "source": [
    "The sensitiveness of the price to an increase of a parameter can be computed using finite difference.\n",
    "Let us first fix N to 4000\n",
    "\n",
    "- an increase of  $\\sigma$ (vega) : \n",
    "    $ v = \\lim_{d\\sigma \\rightarrow 0} \\frac{C(\\sigma+d\\sigma,N)-C(\\sigma,N)}{d\\sigma}$\n",
    "    "
   ]
  },
  {
   "cell_type": "code",
   "execution_count": 4,
   "metadata": {
    "collapsed": true
   },
   "outputs": [],
   "source": [
    "def vega(N, sigma,  delta=0.01, S0 = 100, K = 100, T = 1, r = 0.02):\n",
    "\n",
    "    M = 50\n",
    "    dt = T / M\n",
    "    \n",
    "\n",
    "    # Simulating N paths with M time steps\n",
    "    S1 = np.zeros((M + 1, N))\n",
    "    S2 = np.zeros((M + 1, N))\n",
    "    S1[0] = S0\n",
    "    S2[0] = S0\n",
    "    \n",
    "    for t in range(1, M + 1):\n",
    "        z = np.random.standard_normal(N) \n",
    "        S1[t] = S1[t - 1] * np.exp((r - 0.5 * (sigma ** 2)) * dt\n",
    "        + sigma * np.sqrt(dt) * z)\n",
    "        \n",
    "        S2[t] = S2[t - 1] * np.exp((r - 0.5 * ((sigma+delta) ** 2)) * dt\n",
    "        + (sigma+delta) * np.sqrt(dt) * z)\n",
    "\n",
    "    # Computing the Monte Carlo estimator\n",
    "    C1 = np.exp(-r * T) * np.sum(np.maximum(S1[-1] - K, 0)) / N\n",
    "    C2 = np.exp(-r * T) * np.sum(np.maximum(S2[-1] - K, 0)) / N\n",
    "    \n",
    "    v = (C2 - C1)/delta\n",
    "    return v"
   ]
  },
  {
   "cell_type": "code",
   "execution_count": 5,
   "metadata": {},
   "outputs": [
    {
     "name": "stdout",
     "output_type": "stream",
     "text": [
      "Vega =  38.2\n"
     ]
    }
   ],
   "source": [
    "print(\"Vega = \", round(vega(N= 4000, sigma=0.3),2))"
   ]
  },
  {
   "cell_type": "markdown",
   "metadata": {},
   "source": [
    "- an increase of r (rho):\n",
    "    $ \\rho = \\lim_{dr \\rightarrow 0} \\frac{C(r+dr,N)-C(r,N)}{dr}$\n",
    "    \n"
   ]
  },
  {
   "cell_type": "code",
   "execution_count": 6,
   "metadata": {
    "collapsed": true
   },
   "outputs": [],
   "source": [
    "def rho(N, sigma,  delta=0.0001, S0 = 100, K = 100, T = 1, r = 0.02):\n",
    "\n",
    "    M = 50\n",
    "    dt = T / M\n",
    "    \n",
    "\n",
    "    # Simulating N paths with M time steps\n",
    "    S1 = np.zeros((M + 1, N))\n",
    "    S2 = np.zeros((M + 1, N))\n",
    "    S1[0] = S0\n",
    "    S2[0] = S0\n",
    "    \n",
    "    for t in range(1, M + 1):\n",
    "        z = np.random.standard_normal(N) \n",
    "        S1[t] = S1[t - 1] * np.exp((r - 0.5 * sigma ** 2) * dt\n",
    "        + sigma * np.sqrt(dt) * z)\n",
    "        \n",
    "        S2[t] = S2[t - 1] * np.exp(((r+delta) - 0.5 * (sigma) ** 2) * dt\n",
    "        + sigma * np.sqrt(dt) * z)\n",
    "\n",
    "    # Computing the Monte Carlo estimator\n",
    "    C1 = np.exp(-r * T) * np.sum(np.maximum(S1[-1] - K, 0)) / N\n",
    "    C2 = np.exp(-(r+delta) * T) * np.sum(np.maximum(S2[-1] - K, 0)) / N\n",
    "    \n",
    "    v = (C2 - C1)/delta\n",
    "    return v"
   ]
  },
  {
   "cell_type": "code",
   "execution_count": 7,
   "metadata": {},
   "outputs": [
    {
     "name": "stdout",
     "output_type": "stream",
     "text": [
      "Rho =  45.76\n"
     ]
    }
   ],
   "source": [
    "print(\"Rho = \", round(rho(N= 4000, sigma=0.3),2))"
   ]
  },
  {
   "cell_type": "markdown",
   "metadata": {},
   "source": [
    "- Comparison to the BS closed formulas."
   ]
  },
  {
   "cell_type": "markdown",
   "metadata": {},
   "source": [
    "the formula of  vega: $v=\\frac{\\partial C}{\\partial \\sigma} = S N'(d_{1})\\sqrt{T}$\n",
    "\n",
    "with $d_1 = \\frac{ln(S/K)+(r + \\frac{\\sigma^2}{2})T}{\\sigma \\sqrt{T}}$\n",
    "\n",
    "Let's compute the vega "
   ]
  },
  {
   "cell_type": "code",
   "execution_count": 8,
   "metadata": {},
   "outputs": [
    {
     "name": "stdout",
     "output_type": "stream",
     "text": [
      "Vega using closed formula =  38.97\n"
     ]
    }
   ],
   "source": [
    "def vega_formula(S=100, r=0.02, T=1, K = 100, sigma = 0.3): \n",
    "    \n",
    "    d1 = (np.log(S/K) + (r + (sigma**2)/2 )*T)/(sigma*np.sqrt(T))\n",
    "    \n",
    "    return S * norm.pdf(d1)*np.sqrt(T)\n",
    "\n",
    "print(\"Vega using closed formula = \", round(vega_formula(),2))"
   ]
  },
  {
   "cell_type": "markdown",
   "metadata": {},
   "source": [
    "The formula of the rho: $\\rho = \\frac{\\partial C}{\\partial r} = KTe^{-rT}N(d_2)$"
   ]
  },
  {
   "cell_type": "markdown",
   "metadata": {},
   "source": [
    "Let's compute the vega"
   ]
  },
  {
   "cell_type": "code",
   "execution_count": 9,
   "metadata": {},
   "outputs": [
    {
     "name": "stdout",
     "output_type": "stream",
     "text": [
      "Rho using closed formula =  45.76\n"
     ]
    }
   ],
   "source": [
    "def rho_formula(S=100,r=0.02, T=1, K = 100, sigma = 0.3): \n",
    "    \n",
    "    d2 = (np.log(S/K) + (r - (sigma**2)/2 )*T)/(sigma*np.sqrt(T))\n",
    "    \n",
    "    return K*T*np.exp(-r*T)*norm.cdf(d2)\n",
    "\n",
    "print(\"Rho using closed formula = \", round(rho_formula(),2))"
   ]
  },
  {
   "cell_type": "markdown",
   "metadata": {},
   "source": [
    "The results got using the closed formula are almost the same as the ones got with the Monte Carlo simulations"
   ]
  },
  {
   "cell_type": "markdown",
   "metadata": {},
   "source": [
    "#### C- Let's now compute by finite difference, using MC, the sensitivity to a move of the underlying asset (Delta) : "
   ]
  },
  {
   "cell_type": "markdown",
   "metadata": {},
   "source": [
    "- an increase of S (Delta):\n",
    "    $ \\Delta = \\lim_{dS \\rightarrow 0} \\frac{C(S+dS,N)-C(S,N)}{dS}$\n",
    "    "
   ]
  },
  {
   "cell_type": "code",
   "execution_count": 10,
   "metadata": {
    "collapsed": true
   },
   "outputs": [],
   "source": [
    "def Delta(N, sigma = 0.3,  delta=0.0001, S0 = 100, K = 100, T = 1, r = 0.02):\n",
    "\n",
    "    M = 50\n",
    "    dt = T / M\n",
    "    \n",
    "\n",
    "    # Simulating N paths with M time steps\n",
    "    S1 = np.zeros((M + 1, N))\n",
    "    S2 = np.zeros((M + 1, N))\n",
    "    S1[0] = S0\n",
    "    S2[0] = S0+delta\n",
    "    \n",
    "    for t in range(1, M + 1):\n",
    "        z = np.random.standard_normal(N) \n",
    "        S1[t] = S1[t - 1] * np.exp((r - 0.5 * sigma ** 2) * dt\n",
    "        + sigma * np.sqrt(dt) * z)\n",
    "        \n",
    "        S2[t] = S2[t - 1] * np.exp((r - 0.5 * (sigma) ** 2) * dt\n",
    "        + sigma * np.sqrt(dt) * z)\n",
    "\n",
    "    # Computing the Monte Carlo estimator\n",
    "    C1 = np.exp(-r * T) * np.sum(np.maximum(S1[-1] - K, 0)) / N\n",
    "    C2 = np.exp(-r * T) * np.sum(np.maximum(S2[-1] - K, 0)) / N\n",
    "    \n",
    "    d = (C2 - C1)/delta\n",
    "    return d"
   ]
  },
  {
   "cell_type": "code",
   "execution_count": 11,
   "metadata": {},
   "outputs": [
    {
     "name": "stdout",
     "output_type": "stream",
     "text": [
      "Delta =  0.58\n"
     ]
    }
   ],
   "source": [
    "print(\"Delta = \", round(Delta(N= 4000),2))"
   ]
  },
  {
   "cell_type": "markdown",
   "metadata": {},
   "source": [
    "- Study of the convergence speed of the Delta"
   ]
  },
  {
   "cell_type": "code",
   "execution_count": 12,
   "metadata": {},
   "outputs": [
    {
     "data": {
      "image/png": "[encoded data removed]",
      "text/plain": [
       "<matplotlib.figure.Figure at 0x23c8c66eeb8>"
      ]
     },
     "metadata": {},
     "output_type": "display_data"
    }
   ],
   "source": [
    "N = [int(size) for size in np.linspace(start=50, stop=5000, num = 500)]\n",
    "deltas = list(map(lambda size: Delta(size), N))\n",
    "mean_delta = [np.mean(deltas)]*len(deltas)\n",
    "plt.plot(N, deltas)\n",
    "plt.plot(N, mean_delta, \"r\")\n",
    "plt.text(5000, 0.58, \"{}\".format(round(np.mean(deltas),2)))\n",
    "plt.title(\"Monte Carlo estimation for the delta\")\n",
    "plt.xlabel(\"N\")\n",
    "plt.ylabel(\"delta\")\n",
    "plt.show()"
   ]
  },
  {
   "cell_type": "markdown",
   "metadata": {},
   "source": [
    "We can notice that the Monte Carlo estimator of the delta converges approximatively with the same rate as the Monte Carlo estimator of the Call option price. It converges to its mean value (0.59) by 4000 observations as the deviation from the mean becomes very low."
   ]
  },
  {
   "cell_type": "markdown",
   "metadata": {},
   "source": [
    "#### D- Explaination of how MC estimations behave when we get closer to the maturity."
   ]
  },
  {
   "cell_type": "markdown",
   "metadata": {},
   "source": [
    "- Call option price "
   ]
  },
  {
   "cell_type": "code",
   "execution_count": 13,
   "metadata": {
    "collapsed": true
   },
   "outputs": [],
   "source": [
    "def mont_time(N, sigma=0.3,  delta=0.01, S0 = 100, K = 100, T=1, r = 0.02):\n",
    "\n",
    "    M = 1\n",
    "    C = []\n",
    "    for time in np.linspace(start=0, stop=T, num=50):\n",
    "        \n",
    "        dt = time/M\n",
    "        \n",
    "        # Simulating N paths with M time steps\n",
    "        S = np.zeros((M + 1, N))\n",
    "        S[0] = S0\n",
    "\n",
    "        for t in range(1, M + 1):\n",
    "            z = np.random.standard_normal(N) \n",
    "            S[t] = S[t - 1] * np.exp((r - 0.5 * (sigma ** 2)) * dt\n",
    "            + sigma * np.sqrt(dt) * z)\n",
    "\n",
    "        c = np.exp(-r * time) * np.sum(np.maximum(S[-1] - K, 0)) / N\n",
    "        C.append(c)\n",
    "    \n",
    "    return C"
   ]
  },
  {
   "cell_type": "code",
   "execution_count": 14,
   "metadata": {},
   "outputs": [
    {
     "data": {
      "image/png": "[encoded data removed]",
      "text/plain": [
       "<matplotlib.figure.Figure at 0x23c83e83a90>"
      ]
     },
     "metadata": {},
     "output_type": "display_data"
    }
   ],
   "source": [
    "mont_t = mont_time(N=4000)\n",
    "plt.xlabel(\"time\")\n",
    "plt.title(\"Call option price\")\n",
    "plt.plot(np.linspace(start=0, stop=1, num=50), mont_t)\n",
    "plt.show()"
   ]
  },
  {
   "cell_type": "markdown",
   "metadata": {},
   "source": [
    "- vega"
   ]
  },
  {
   "cell_type": "code",
   "execution_count": 15,
   "metadata": {
    "collapsed": true
   },
   "outputs": [],
   "source": [
    "def vega_time(N, sigma=0.3,  delta=0.01, S0 = 100, K = 100, T = 1, r = 0.02):\n",
    "\n",
    "    M = 1\n",
    "    Vega = []\n",
    "    \n",
    "    for time in np.linspace(start=0, stop=T, num=50):\n",
    "        \n",
    "        dt = time / M\n",
    "        # Simulating N paths with M time steps\n",
    "        S1 = np.zeros((M + 1, N))\n",
    "        S2 = np.zeros((M + 1, N))\n",
    "        S1[0] = S0\n",
    "        S2[0] = S0\n",
    "\n",
    "        for t in range(1, M + 1):\n",
    "            z = np.random.standard_normal(N) \n",
    "            S1[t] = S1[t - 1] * np.exp((r - 0.5 * (sigma ** 2)) * dt\n",
    "            + sigma * np.sqrt(dt) * z)\n",
    "\n",
    "            S2[t] = S2[t - 1] * np.exp((r - 0.5 * ((sigma+delta) ** 2)) * dt\n",
    "            + (sigma+delta) * np.sqrt(dt) * z)\n",
    "\n",
    "        # Computing the Monte Carlo estimator\n",
    "        C1 = np.exp(-r * time) * np.sum(np.maximum(S1[-1] - K, 0)) / N\n",
    "        C2 = np.exp(-r * time) * np.sum(np.maximum(S2[-1] - K, 0)) / N\n",
    "\n",
    "        v = (C2 - C1)/delta\n",
    "        \n",
    "        Vega.append(v)\n",
    "        \n",
    "    return Vega"
   ]
  },
  {
   "cell_type": "code",
   "execution_count": 16,
   "metadata": {},
   "outputs": [
    {
     "data": {
      "image/png": "[encoded data removed]",
      "text/plain": [
       "<matplotlib.figure.Figure at 0x23c8e7bc390>"
      ]
     },
     "metadata": {},
     "output_type": "display_data"
    }
   ],
   "source": [
    "vega_t = vega_time(N=4000)\n",
    "plt.xlabel(\"time\")\n",
    "plt.title(\"Vega\")\n",
    "plt.plot(np.linspace(start=0, stop=1, num=50),vega_t )\n",
    "plt.show()"
   ]
  },
  {
   "cell_type": "markdown",
   "metadata": {},
   "source": [
    "- rho"
   ]
  },
  {
   "cell_type": "code",
   "execution_count": 17,
   "metadata": {
    "collapsed": true
   },
   "outputs": [],
   "source": [
    "def rho_time(N, sigma=0.3,  delta=0.0001, S0 = 100, K = 100, T = 1, r = 0.02):\n",
    "\n",
    "    M = 1\n",
    "    Rho = []\n",
    "    for time in np.linspace(start=0, stop=T, num=50):\n",
    "        \n",
    "        dt = time / M\n",
    "\n",
    "\n",
    "        # Simulating N paths with M time steps\n",
    "        S1 = np.zeros((M + 1, N))\n",
    "        S2 = np.zeros((M + 1, N))\n",
    "        S1[0] = S0\n",
    "        S2[0] = S0\n",
    "\n",
    "        for t in range(1, M + 1):\n",
    "            z = np.random.standard_normal(N) \n",
    "            S1[t] = S1[t - 1] * np.exp((r - 0.5 * sigma ** 2) * dt\n",
    "            + sigma * np.sqrt(dt) * z)\n",
    "\n",
    "            S2[t] = S2[t - 1] * np.exp(((r+delta) - 0.5 * (sigma) ** 2) * dt\n",
    "            + sigma * np.sqrt(dt) * z)\n",
    "\n",
    "        # Computing the Monte Carlo estimator\n",
    "        C1 = np.exp(-r * time) * np.sum(np.maximum(S1[-1] - K, 0)) / N\n",
    "        C2 = np.exp(-(r+delta) * time) * np.sum(np.maximum(S2[-1] - K, 0)) / N\n",
    "\n",
    "        rh = (C2 - C1)/delta\n",
    "        Rho.append(rh)\n",
    "    return Rho"
   ]
  },
  {
   "cell_type": "code",
   "execution_count": 18,
   "metadata": {},
   "outputs": [
    {
     "data": {
      "image/png": "[encoded data removed]",
      "text/plain": [
       "<matplotlib.figure.Figure at 0x23c8e8cb1d0>"
      ]
     },
     "metadata": {},
     "output_type": "display_data"
    }
   ],
   "source": [
    "rho_t = rho_time(N=4000)\n",
    "plt.xlabel(\"time\")\n",
    "plt.title(\"Rho\")\n",
    "plt.plot(np.linspace(start=0, stop=1, num=50), rho_t)\n",
    "plt.show()"
   ]
  },
  {
   "cell_type": "markdown",
   "metadata": {
    "collapsed": true
   },
   "source": [
    "- delta"
   ]
  },
  {
   "cell_type": "code",
   "execution_count": 19,
   "metadata": {
    "collapsed": true
   },
   "outputs": [],
   "source": [
    "def Delta_time(N, sigma = 0.3,  delta=0.0001, S0 = 100, K = 100, T = 1, r = 0.02):\n",
    "\n",
    "    M = 1\n",
    "    Del = []\n",
    "    for time in np.linspace(start=0.01, stop=T, num=50):\n",
    "        dt = time / M\n",
    "\n",
    "\n",
    "        # Simulating N paths with M time steps\n",
    "        S1 = np.zeros((M + 1, N))\n",
    "        S2 = np.zeros((M + 1, N))\n",
    "        S1[0] = S0\n",
    "        S2[0] = S0+delta\n",
    "\n",
    "        for t in range(1, M + 1):\n",
    "            z = np.random.standard_normal(N) \n",
    "            S1[t] = S1[t - 1] * np.exp((r - 0.5 * sigma ** 2) * dt\n",
    "            + sigma * np.sqrt(dt) * z)\n",
    "\n",
    "            S2[t] = S2[t - 1] * np.exp((r - 0.5 * (sigma) ** 2) * dt\n",
    "            + sigma * np.sqrt(dt) * z)\n",
    "\n",
    "        # Computing the Monte Carlo estimator\n",
    "        C1 = np.exp(-r * time) * np.sum(np.maximum(S1[-1] - K, 0)) / N\n",
    "        C2 = np.exp(-r * time) * np.sum(np.maximum(S2[-1] - K, 0)) / N\n",
    "\n",
    "        d = (C2 - C1)/delta\n",
    "        Del.append(d)\n",
    "        \n",
    "    return Del"
   ]
  },
  {
   "cell_type": "code",
   "execution_count": 20,
   "metadata": {},
   "outputs": [
    {
     "data": {
      "image/png": "[encoded data removed]",
      "text/plain": [
       "<matplotlib.figure.Figure at 0x23c8e98cc50>"
      ]
     },
     "metadata": {},
     "output_type": "display_data"
    }
   ],
   "source": [
    "Delta_t = Delta_time(N=4000)\n",
    "plt.xlabel(\"time\")\n",
    "plt.title(\"Delta\")\n",
    "plt.plot(np.linspace(start=0, stop=1, num=50), Delta_t)\n",
    "plt.show()"
   ]
  },
  {
   "cell_type": "markdown",
   "metadata": {},
   "source": [
    "#### Comments"
   ]
  },
  {
   "cell_type": "markdown",
   "metadata": {},
   "source": [
    "As we can notice with the different graphs above, as we get closer to the maturity, the Monte Carlo estimations tend to become more and more stable: the estimators increase as time passes but less and less as they seem to have a concave relationship with time."
   ]
  }
 ],
 "metadata": {
  "kernelspec": {
   "display_name": "Python 3",
   "language": "python",
   "name": "python3"
  },
  "language_info": {
   "codemirror_mode": {
    "name": "ipython",
    "version": 3
   },
   "file_extension": ".py",
   "mimetype": "text/x-python",
   "name": "python",
   "nbconvert_exporter": "python",
   "pygments_lexer": "ipython3",
   "version": "3.7.4"
  }
 },
 "nbformat": 4,
 "nbformat_minor": 2
}
